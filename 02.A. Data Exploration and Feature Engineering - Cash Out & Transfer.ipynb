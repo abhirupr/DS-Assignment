{
 "cells": [
  {
   "cell_type": "code",
   "execution_count": 12,
   "metadata": {},
   "outputs": [],
   "source": [
    "import pandas as pd\n",
    "import numpy as np\n",
    "from IPython.display import clear_output"
   ]
  },
  {
   "cell_type": "code",
   "execution_count": 2,
   "metadata": {},
   "outputs": [],
   "source": [
    "df = pd.read_csv(\"/Users/Abhirup/Desktop/Projects/HSBC DS Assignment/PS_20174392719_1491204439457_log.csv\")\n",
    "df.sort_values(by=['step'])\n",
    "df = df.rename(columns={'oldbalanceOrg':'oldBalanceOrig', 'newbalanceOrig':'newBalanceOrig', \\\n",
    "                        'oldbalanceDest':'oldBalanceDest', 'newbalanceDest':'newBalanceDest'})"
   ]
  },
  {
   "cell_type": "code",
   "execution_count": 3,
   "metadata": {},
   "outputs": [
    {
     "data": {
      "text/html": [
       "<div>\n",
       "<style scoped>\n",
       "    .dataframe tbody tr th:only-of-type {\n",
       "        vertical-align: middle;\n",
       "    }\n",
       "\n",
       "    .dataframe tbody tr th {\n",
       "        vertical-align: top;\n",
       "    }\n",
       "\n",
       "    .dataframe thead th {\n",
       "        text-align: right;\n",
       "    }\n",
       "</style>\n",
       "<table border=\"1\" class=\"dataframe\">\n",
       "  <thead>\n",
       "    <tr style=\"text-align: right;\">\n",
       "      <th></th>\n",
       "      <th>step</th>\n",
       "      <th>type</th>\n",
       "      <th>amount</th>\n",
       "      <th>nameOrig</th>\n",
       "      <th>oldBalanceOrig</th>\n",
       "      <th>newBalanceOrig</th>\n",
       "      <th>nameDest</th>\n",
       "      <th>oldBalanceDest</th>\n",
       "      <th>newBalanceDest</th>\n",
       "      <th>isFraud</th>\n",
       "      <th>isFlaggedFraud</th>\n",
       "    </tr>\n",
       "  </thead>\n",
       "  <tbody>\n",
       "    <tr>\n",
       "      <td>0</td>\n",
       "      <td>1</td>\n",
       "      <td>TRANSFER</td>\n",
       "      <td>181.00</td>\n",
       "      <td>C1305486145</td>\n",
       "      <td>181.0</td>\n",
       "      <td>0.0</td>\n",
       "      <td>C553264065</td>\n",
       "      <td>0.0</td>\n",
       "      <td>0.00</td>\n",
       "      <td>1</td>\n",
       "      <td>0</td>\n",
       "    </tr>\n",
       "    <tr>\n",
       "      <td>1</td>\n",
       "      <td>1</td>\n",
       "      <td>CASH_OUT</td>\n",
       "      <td>181.00</td>\n",
       "      <td>C840083671</td>\n",
       "      <td>181.0</td>\n",
       "      <td>0.0</td>\n",
       "      <td>C38997010</td>\n",
       "      <td>21182.0</td>\n",
       "      <td>0.00</td>\n",
       "      <td>1</td>\n",
       "      <td>0</td>\n",
       "    </tr>\n",
       "    <tr>\n",
       "      <td>2</td>\n",
       "      <td>1</td>\n",
       "      <td>CASH_OUT</td>\n",
       "      <td>229133.94</td>\n",
       "      <td>C905080434</td>\n",
       "      <td>15325.0</td>\n",
       "      <td>0.0</td>\n",
       "      <td>C476402209</td>\n",
       "      <td>5083.0</td>\n",
       "      <td>51513.44</td>\n",
       "      <td>0</td>\n",
       "      <td>0</td>\n",
       "    </tr>\n",
       "    <tr>\n",
       "      <td>3</td>\n",
       "      <td>1</td>\n",
       "      <td>TRANSFER</td>\n",
       "      <td>215310.30</td>\n",
       "      <td>C1670993182</td>\n",
       "      <td>705.0</td>\n",
       "      <td>0.0</td>\n",
       "      <td>C1100439041</td>\n",
       "      <td>22425.0</td>\n",
       "      <td>0.00</td>\n",
       "      <td>0</td>\n",
       "      <td>0</td>\n",
       "    </tr>\n",
       "    <tr>\n",
       "      <td>4</td>\n",
       "      <td>1</td>\n",
       "      <td>TRANSFER</td>\n",
       "      <td>311685.89</td>\n",
       "      <td>C1984094095</td>\n",
       "      <td>10835.0</td>\n",
       "      <td>0.0</td>\n",
       "      <td>C932583850</td>\n",
       "      <td>6267.0</td>\n",
       "      <td>2719172.89</td>\n",
       "      <td>0</td>\n",
       "      <td>0</td>\n",
       "    </tr>\n",
       "  </tbody>\n",
       "</table>\n",
       "</div>"
      ],
      "text/plain": [
       "   step      type     amount     nameOrig  oldBalanceOrig  newBalanceOrig  \\\n",
       "0     1  TRANSFER     181.00  C1305486145           181.0             0.0   \n",
       "1     1  CASH_OUT     181.00   C840083671           181.0             0.0   \n",
       "2     1  CASH_OUT  229133.94   C905080434         15325.0             0.0   \n",
       "3     1  TRANSFER  215310.30  C1670993182           705.0             0.0   \n",
       "4     1  TRANSFER  311685.89  C1984094095         10835.0             0.0   \n",
       "\n",
       "      nameDest  oldBalanceDest  newBalanceDest  isFraud  isFlaggedFraud  \n",
       "0   C553264065             0.0            0.00        1               0  \n",
       "1    C38997010         21182.0            0.00        1               0  \n",
       "2   C476402209          5083.0        51513.44        0               0  \n",
       "3  C1100439041         22425.0            0.00        0               0  \n",
       "4   C932583850          6267.0      2719172.89        0               0  "
      ]
     },
     "execution_count": 3,
     "metadata": {},
     "output_type": "execute_result"
    }
   ],
   "source": [
    "df_cot=df[df['type'].isin(['CASH_OUT','TRANSFER'])]\n",
    "df_cot=df_cot.reset_index(drop=True)\n",
    "df_cot.head()"
   ]
  },
  {
   "cell_type": "code",
   "execution_count": 4,
   "metadata": {},
   "outputs": [
    {
     "name": "stdout",
     "output_type": "stream",
     "text": [
      "(2770409, 11)\n",
      "743\n"
     ]
    }
   ],
   "source": [
    "print(df_cot.shape)\n",
    "print(len(df_cot['step'].drop_duplicates()))"
   ]
  },
  {
   "cell_type": "code",
   "execution_count": 5,
   "metadata": {},
   "outputs": [
    {
     "data": {
      "text/plain": [
       "(0.257, 186.5]     990974\n",
       "(186.5, 372.0]    1317246\n",
       "(372.0, 557.5]     380545\n",
       "(557.5, 743.0]      81644\n",
       "Name: step, dtype: int64"
      ]
     },
     "execution_count": 5,
     "metadata": {},
     "output_type": "execute_result"
    }
   ],
   "source": [
    "df_cot['step'].value_counts(bins=4).sort_index()"
   ]
  },
  {
   "cell_type": "code",
   "execution_count": 6,
   "metadata": {},
   "outputs": [
    {
     "data": {
      "text/plain": [
       "1.0     990974\n",
       "2.0    1317246\n",
       "3.0     380559\n",
       "4.0      81630\n",
       "Name: week, dtype: int64"
      ]
     },
     "execution_count": 6,
     "metadata": {},
     "output_type": "execute_result"
    }
   ],
   "source": [
    "#Since Steps are hours, make bins of observations to weeks\n",
    "for i in range(4):\n",
    "    df_cot.loc[(df_cot['step']>186*i) & (df_cot['step']<=186*(i+1)),'week'] =i+1\n",
    "df_cot['week'].value_counts().sort_index()"
   ]
  },
  {
   "cell_type": "code",
   "execution_count": 8,
   "metadata": {},
   "outputs": [
    {
     "data": {
      "text/html": [
       "<div>\n",
       "<style scoped>\n",
       "    .dataframe tbody tr th:only-of-type {\n",
       "        vertical-align: middle;\n",
       "    }\n",
       "\n",
       "    .dataframe tbody tr th {\n",
       "        vertical-align: top;\n",
       "    }\n",
       "\n",
       "    .dataframe thead th {\n",
       "        text-align: right;\n",
       "    }\n",
       "</style>\n",
       "<table border=\"1\" class=\"dataframe\">\n",
       "  <thead>\n",
       "    <tr style=\"text-align: right;\">\n",
       "      <th></th>\n",
       "      <th>step</th>\n",
       "      <th>type</th>\n",
       "      <th>amount</th>\n",
       "      <th>nameOrig</th>\n",
       "      <th>oldBalanceOrig</th>\n",
       "      <th>newBalanceOrig</th>\n",
       "      <th>nameDest</th>\n",
       "      <th>oldBalanceDest</th>\n",
       "      <th>newBalanceDest</th>\n",
       "      <th>isFraud</th>\n",
       "      <th>isFlaggedFraud</th>\n",
       "      <th>week</th>\n",
       "    </tr>\n",
       "  </thead>\n",
       "  <tbody>\n",
       "    <tr>\n",
       "      <td>990974</td>\n",
       "      <td>187</td>\n",
       "      <td>CASH_OUT</td>\n",
       "      <td>18166.68</td>\n",
       "      <td>C1133016021</td>\n",
       "      <td>10314.0</td>\n",
       "      <td>0.0</td>\n",
       "      <td>C1599052132</td>\n",
       "      <td>405951.81</td>\n",
       "      <td>424118.49</td>\n",
       "      <td>0</td>\n",
       "      <td>0</td>\n",
       "      <td>2.0</td>\n",
       "    </tr>\n",
       "  </tbody>\n",
       "</table>\n",
       "</div>"
      ],
      "text/plain": [
       "        step      type    amount     nameOrig  oldBalanceOrig  newBalanceOrig  \\\n",
       "990974   187  CASH_OUT  18166.68  C1133016021         10314.0             0.0   \n",
       "\n",
       "           nameDest  oldBalanceDest  newBalanceDest  isFraud  isFlaggedFraud  \\\n",
       "990974  C1599052132       405951.81       424118.49        0               0   \n",
       "\n",
       "        week  \n",
       "990974   2.0  "
      ]
     },
     "execution_count": 8,
     "metadata": {},
     "output_type": "execute_result"
    }
   ],
   "source": [
    "df_cot[df_cot['step']==187].head(1)"
   ]
  },
  {
   "cell_type": "code",
   "execution_count": 9,
   "metadata": {},
   "outputs": [
    {
     "data": {
      "text/plain": [
       "2770409"
      ]
     },
     "execution_count": 9,
     "metadata": {},
     "output_type": "execute_result"
    }
   ],
   "source": [
    "len(df_cot)"
   ]
  },
  {
   "cell_type": "code",
   "execution_count": 77,
   "metadata": {},
   "outputs": [
    {
     "name": "stdout",
     "output_type": "stream",
     "text": [
      "\n",
      "Customers Transacting both in Week 1 and Week 2\n",
      "628\n",
      "\n",
      "Customers Transacting both in Week 1 and Week 3\n",
      "178\n",
      "\n",
      "Customers Transacting both in Week 2 and Week 3\n",
      "210\n",
      "\n",
      "Customers Transacting both in Week 2 and Week 4\n",
      "48\n",
      "\n",
      "Customers Transacting both in Week 3 and Week 4\n",
      "10\n",
      "\n",
      "Customers Transacting both in Week 3 and Week 5\n",
      "0\n"
     ]
    }
   ],
   "source": [
    "for i in range(1,4):\n",
    "    print(\"\\nCustomers Transacting both in Week %s and Week %s\"%(i,i+1))\n",
    "    print(pd.merge(df_cot.loc[df_cot['week']==i,'nameOrig'],df_cot.loc[df_cot['week']==i+1,'nameOrig'],on='nameOrig')\n",
    "      ['nameOrig'].nunique())\n",
    "    print(\"\\nCustomers Transacting both in Week %s and Week %s\"%(i,i+2))\n",
    "    print(pd.merge(df_cot.loc[df_cot['week']==i,'nameOrig'],df_cot.loc[df_cot['week']==i+2,'nameOrig'],on='nameOrig')\n",
    "      ['nameOrig'].nunique())"
   ]
  },
  {
   "cell_type": "code",
   "execution_count": 86,
   "metadata": {},
   "outputs": [
    {
     "name": "stdout",
     "output_type": "stream",
     "text": [
      "0    C1493903724\n",
      "1     C698096077\n",
      "2    C1002027777\n",
      "3    C1735528721\n",
      "4    C2091005120\n",
      "5     C624219547\n",
      "6     C515118379\n",
      "7    C1866458559\n",
      "8    C1170262181\n",
      "9     C614844959\n",
      "Name: nameOrig, dtype: object\n"
     ]
    }
   ],
   "source": [
    "print(pd.merge(df_cot.loc[df_cot['week']==i,'nameOrig'],df_cot.loc[df_cot['week']==i+1,'nameOrig'],on='nameOrig')\n",
    "      ['nameOrig'].head(10))"
   ]
  },
  {
   "cell_type": "code",
   "execution_count": 93,
   "metadata": {},
   "outputs": [
    {
     "data": {
      "text/html": [
       "<div>\n",
       "<style scoped>\n",
       "    .dataframe tbody tr th:only-of-type {\n",
       "        vertical-align: middle;\n",
       "    }\n",
       "\n",
       "    .dataframe tbody tr th {\n",
       "        vertical-align: top;\n",
       "    }\n",
       "\n",
       "    .dataframe thead th {\n",
       "        text-align: right;\n",
       "    }\n",
       "</style>\n",
       "<table border=\"1\" class=\"dataframe\">\n",
       "  <thead>\n",
       "    <tr style=\"text-align: right;\">\n",
       "      <th></th>\n",
       "      <th>step</th>\n",
       "      <th>type</th>\n",
       "      <th>amount</th>\n",
       "      <th>nameOrig</th>\n",
       "      <th>oldBalanceOrig</th>\n",
       "      <th>newBalanceOrig</th>\n",
       "      <th>nameDest</th>\n",
       "      <th>oldBalanceDest</th>\n",
       "      <th>newBalanceDest</th>\n",
       "      <th>isFraud</th>\n",
       "      <th>isFlaggedFraud</th>\n",
       "      <th>week</th>\n",
       "    </tr>\n",
       "  </thead>\n",
       "  <tbody>\n",
       "    <tr>\n",
       "      <td>2658054</td>\n",
       "      <td>522</td>\n",
       "      <td>CASH_OUT</td>\n",
       "      <td>117930.56</td>\n",
       "      <td>C1866458559</td>\n",
       "      <td>0.0</td>\n",
       "      <td>0.0</td>\n",
       "      <td>C2022053326</td>\n",
       "      <td>1841392.95</td>\n",
       "      <td>1959323.51</td>\n",
       "      <td>0</td>\n",
       "      <td>0</td>\n",
       "      <td>3.0</td>\n",
       "    </tr>\n",
       "    <tr>\n",
       "      <td>2689177</td>\n",
       "      <td>563</td>\n",
       "      <td>CASH_OUT</td>\n",
       "      <td>261870.19</td>\n",
       "      <td>C1866458559</td>\n",
       "      <td>0.0</td>\n",
       "      <td>0.0</td>\n",
       "      <td>C334675503</td>\n",
       "      <td>373186.47</td>\n",
       "      <td>635056.66</td>\n",
       "      <td>0</td>\n",
       "      <td>0</td>\n",
       "      <td>4.0</td>\n",
       "    </tr>\n",
       "  </tbody>\n",
       "</table>\n",
       "</div>"
      ],
      "text/plain": [
       "         step      type     amount     nameOrig  oldBalanceOrig  \\\n",
       "2658054   522  CASH_OUT  117930.56  C1866458559             0.0   \n",
       "2689177   563  CASH_OUT  261870.19  C1866458559             0.0   \n",
       "\n",
       "         newBalanceOrig     nameDest  oldBalanceDest  newBalanceDest  isFraud  \\\n",
       "2658054             0.0  C2022053326      1841392.95      1959323.51        0   \n",
       "2689177             0.0   C334675503       373186.47       635056.66        0   \n",
       "\n",
       "         isFlaggedFraud  week  \n",
       "2658054               0   3.0  \n",
       "2689177               0   4.0  "
      ]
     },
     "execution_count": 93,
     "metadata": {},
     "output_type": "execute_result"
    }
   ],
   "source": [
    "df_cot[df_cot['nameOrig']=='C1866458559']"
   ]
  },
  {
   "cell_type": "code",
   "execution_count": null,
   "metadata": {},
   "outputs": [
    {
     "name": "stdout",
     "output_type": "stream",
     "text": [
      "Current Progress: 7.75 %\n"
     ]
    }
   ],
   "source": [
    "df_cot_f=pd.DataFrame()\n",
    "for i in range(990974,len(df_cot)):\n",
    "    \n",
    "    clear_output(wait=True)\n",
    "    \n",
    "    name=df_cot.iloc[i,3]\n",
    "    step=df_cot.iloc[i,0]\n",
    "    df_t1=df_cot.loc[(df_cot['step']>=step-186)&(df_cot['step']<step)&(df_cot['nameOrig']==name)\n",
    "                    ,['step','nameOrig','amount']].groupby('nameOrig',as_index=False)['amount'].sum()\n",
    "    df_t2=df_cot.loc[(df_cot['step']>=step-186)&(df_cot['step']<step)&(df_cot['nameOrig']==name)\n",
    "                     ,['step','nameOrig','amount']].groupby('nameOrig',as_index=False)['amount'].count()\n",
    "    \n",
    "    df_t3=df_cot.iloc[[i]]\n",
    "    \n",
    "    if df_t1.empty==True:\n",
    "        df_t3['$TransL1W']=0\n",
    "        df_t3['NumTransL1W']=0\n",
    "        df_cot_f=df_cot_f.append(df_t3)\n",
    "    elif df_t1.empty==False:\n",
    "        df_t1=df_t1.rename(columns={'amount':'$TransL1W'})\n",
    "        df_t2=df_t2.rename(columns={'amount':'NumTransL1W'})\n",
    "        df_t=pd.merge(df_t1,df_t2,on='nameOrig')\n",
    "        df_t3=pd.merge(df_t3,df_t,how='left',on='nameOrig')\n",
    "        df_cot_f=df_cot_f.append(df_t3)\n",
    "        \n",
    "    print(\"Current Progress:\",np.round((i-990973)/(len(df_cot)-990973)*100,2),'%')"
   ]
  },
  {
   "cell_type": "code",
   "execution_count": null,
   "metadata": {},
   "outputs": [],
   "source": [
    "df_cot_f.to_csv('/Users/Abhirup/Desktop/Projects/HSBC DS Assignment/df_cot_f.csv', index=False)"
   ]
  },
  {
   "cell_type": "code",
   "execution_count": 16,
   "metadata": {
    "scrolled": false
   },
   "outputs": [
    {
     "data": {
      "text/html": [
       "<div>\n",
       "<style scoped>\n",
       "    .dataframe tbody tr th:only-of-type {\n",
       "        vertical-align: middle;\n",
       "    }\n",
       "\n",
       "    .dataframe tbody tr th {\n",
       "        vertical-align: top;\n",
       "    }\n",
       "\n",
       "    .dataframe thead th {\n",
       "        text-align: right;\n",
       "    }\n",
       "</style>\n",
       "<table border=\"1\" class=\"dataframe\">\n",
       "  <thead>\n",
       "    <tr style=\"text-align: right;\">\n",
       "      <th></th>\n",
       "      <th>step</th>\n",
       "      <th>type</th>\n",
       "      <th>amount</th>\n",
       "      <th>nameOrig</th>\n",
       "      <th>oldBalanceOrig</th>\n",
       "      <th>newBalanceOrig</th>\n",
       "      <th>nameDest</th>\n",
       "      <th>oldBalanceDest</th>\n",
       "      <th>newBalanceDest</th>\n",
       "      <th>isFraud</th>\n",
       "      <th>isFlaggedFraud</th>\n",
       "      <th>week</th>\n",
       "      <th>$TransL1W</th>\n",
       "      <th>NumTransL1W</th>\n",
       "    </tr>\n",
       "  </thead>\n",
       "  <tbody>\n",
       "    <tr>\n",
       "      <td>0</td>\n",
       "      <td>187</td>\n",
       "      <td>TRANSFER</td>\n",
       "      <td>180524.95</td>\n",
       "      <td>C1978304769</td>\n",
       "      <td>0.0</td>\n",
       "      <td>0.0</td>\n",
       "      <td>C1022973938</td>\n",
       "      <td>224968.76</td>\n",
       "      <td>405493.71</td>\n",
       "      <td>0</td>\n",
       "      <td>0</td>\n",
       "      <td>2.0</td>\n",
       "      <td>111781.51</td>\n",
       "      <td>1</td>\n",
       "    </tr>\n",
       "    <tr>\n",
       "      <td>0</td>\n",
       "      <td>187</td>\n",
       "      <td>CASH_OUT</td>\n",
       "      <td>19923.13</td>\n",
       "      <td>C73508477</td>\n",
       "      <td>0.0</td>\n",
       "      <td>0.0</td>\n",
       "      <td>C210689417</td>\n",
       "      <td>481992.87</td>\n",
       "      <td>501916.00</td>\n",
       "      <td>0</td>\n",
       "      <td>0</td>\n",
       "      <td>2.0</td>\n",
       "      <td>48611.48</td>\n",
       "      <td>1</td>\n",
       "    </tr>\n",
       "    <tr>\n",
       "      <td>0</td>\n",
       "      <td>187</td>\n",
       "      <td>CASH_OUT</td>\n",
       "      <td>218836.57</td>\n",
       "      <td>C1250432602</td>\n",
       "      <td>2050.0</td>\n",
       "      <td>0.0</td>\n",
       "      <td>C1333730561</td>\n",
       "      <td>318651.37</td>\n",
       "      <td>537487.94</td>\n",
       "      <td>0</td>\n",
       "      <td>0</td>\n",
       "      <td>2.0</td>\n",
       "      <td>121655.57</td>\n",
       "      <td>1</td>\n",
       "    </tr>\n",
       "    <tr>\n",
       "      <td>0</td>\n",
       "      <td>187</td>\n",
       "      <td>CASH_OUT</td>\n",
       "      <td>173802.67</td>\n",
       "      <td>C1613837471</td>\n",
       "      <td>1304.0</td>\n",
       "      <td>0.0</td>\n",
       "      <td>C973645281</td>\n",
       "      <td>759779.74</td>\n",
       "      <td>933582.41</td>\n",
       "      <td>0</td>\n",
       "      <td>0</td>\n",
       "      <td>2.0</td>\n",
       "      <td>534708.23</td>\n",
       "      <td>1</td>\n",
       "    </tr>\n",
       "    <tr>\n",
       "      <td>0</td>\n",
       "      <td>187</td>\n",
       "      <td>CASH_OUT</td>\n",
       "      <td>199991.30</td>\n",
       "      <td>C167211692</td>\n",
       "      <td>50795.0</td>\n",
       "      <td>0.0</td>\n",
       "      <td>C1838219587</td>\n",
       "      <td>0.00</td>\n",
       "      <td>199991.30</td>\n",
       "      <td>0</td>\n",
       "      <td>0</td>\n",
       "      <td>2.0</td>\n",
       "      <td>429669.13</td>\n",
       "      <td>1</td>\n",
       "    </tr>\n",
       "  </tbody>\n",
       "</table>\n",
       "</div>"
      ],
      "text/plain": [
       "   step      type     amount     nameOrig  oldBalanceOrig  newBalanceOrig  \\\n",
       "0   187  TRANSFER  180524.95  C1978304769             0.0             0.0   \n",
       "0   187  CASH_OUT   19923.13    C73508477             0.0             0.0   \n",
       "0   187  CASH_OUT  218836.57  C1250432602          2050.0             0.0   \n",
       "0   187  CASH_OUT  173802.67  C1613837471          1304.0             0.0   \n",
       "0   187  CASH_OUT  199991.30   C167211692         50795.0             0.0   \n",
       "\n",
       "      nameDest  oldBalanceDest  newBalanceDest  isFraud  isFlaggedFraud  week  \\\n",
       "0  C1022973938       224968.76       405493.71        0               0   2.0   \n",
       "0   C210689417       481992.87       501916.00        0               0   2.0   \n",
       "0  C1333730561       318651.37       537487.94        0               0   2.0   \n",
       "0   C973645281       759779.74       933582.41        0               0   2.0   \n",
       "0  C1838219587            0.00       199991.30        0               0   2.0   \n",
       "\n",
       "   $TransL1W  NumTransL1W  \n",
       "0  111781.51            1  \n",
       "0   48611.48            1  \n",
       "0  121655.57            1  \n",
       "0  534708.23            1  \n",
       "0  429669.13            1  "
      ]
     },
     "execution_count": 16,
     "metadata": {},
     "output_type": "execute_result"
    }
   ],
   "source": [
    "df_cot_f[df_cot_f['NumTransL1W']>0]"
   ]
  },
  {
   "cell_type": "code",
   "execution_count": 17,
   "metadata": {},
   "outputs": [
    {
     "data": {
      "text/html": [
       "<div>\n",
       "<style scoped>\n",
       "    .dataframe tbody tr th:only-of-type {\n",
       "        vertical-align: middle;\n",
       "    }\n",
       "\n",
       "    .dataframe tbody tr th {\n",
       "        vertical-align: top;\n",
       "    }\n",
       "\n",
       "    .dataframe thead th {\n",
       "        text-align: right;\n",
       "    }\n",
       "</style>\n",
       "<table border=\"1\" class=\"dataframe\">\n",
       "  <thead>\n",
       "    <tr style=\"text-align: right;\">\n",
       "      <th></th>\n",
       "      <th>step</th>\n",
       "      <th>type</th>\n",
       "      <th>amount</th>\n",
       "      <th>nameOrig</th>\n",
       "      <th>oldBalanceOrig</th>\n",
       "      <th>newBalanceOrig</th>\n",
       "      <th>nameDest</th>\n",
       "      <th>oldBalanceDest</th>\n",
       "      <th>newBalanceDest</th>\n",
       "      <th>isFraud</th>\n",
       "      <th>isFlaggedFraud</th>\n",
       "      <th>week</th>\n",
       "    </tr>\n",
       "  </thead>\n",
       "  <tbody>\n",
       "    <tr>\n",
       "      <td>387900</td>\n",
       "      <td>42</td>\n",
       "      <td>CASH_OUT</td>\n",
       "      <td>111781.51</td>\n",
       "      <td>C1978304769</td>\n",
       "      <td>0.0</td>\n",
       "      <td>0.0</td>\n",
       "      <td>C115283333</td>\n",
       "      <td>729560.77</td>\n",
       "      <td>841342.28</td>\n",
       "      <td>0</td>\n",
       "      <td>0</td>\n",
       "      <td>1.0</td>\n",
       "    </tr>\n",
       "    <tr>\n",
       "      <td>994782</td>\n",
       "      <td>187</td>\n",
       "      <td>TRANSFER</td>\n",
       "      <td>180524.95</td>\n",
       "      <td>C1978304769</td>\n",
       "      <td>0.0</td>\n",
       "      <td>0.0</td>\n",
       "      <td>C1022973938</td>\n",
       "      <td>224968.76</td>\n",
       "      <td>405493.71</td>\n",
       "      <td>0</td>\n",
       "      <td>0</td>\n",
       "      <td>2.0</td>\n",
       "    </tr>\n",
       "  </tbody>\n",
       "</table>\n",
       "</div>"
      ],
      "text/plain": [
       "        step      type     amount     nameOrig  oldBalanceOrig  \\\n",
       "387900    42  CASH_OUT  111781.51  C1978304769             0.0   \n",
       "994782   187  TRANSFER  180524.95  C1978304769             0.0   \n",
       "\n",
       "        newBalanceOrig     nameDest  oldBalanceDest  newBalanceDest  isFraud  \\\n",
       "387900             0.0   C115283333       729560.77       841342.28        0   \n",
       "994782             0.0  C1022973938       224968.76       405493.71        0   \n",
       "\n",
       "        isFlaggedFraud  week  \n",
       "387900               0   1.0  \n",
       "994782               0   2.0  "
      ]
     },
     "execution_count": 17,
     "metadata": {},
     "output_type": "execute_result"
    }
   ],
   "source": [
    "df_cot[df_cot['nameOrig']=='C1978304769']"
   ]
  },
  {
   "cell_type": "code",
   "execution_count": 111,
   "metadata": {},
   "outputs": [],
   "source": [
    "#C1866458559\n",
    "df_t1=df_cot.loc[(df_cot['step']>=563-186)&(df_cot['step']<563)&(df_cot['nameOrig']=='C1866458559')\n",
    "                 ,['step','nameOrig','amount']].groupby('nameOrig',as_index=False)['amount'].sum()\n",
    "df_t2=df_cot.loc[(df_cot['step']>=563-186)&(df_cot['step']<563)&(df_cot['nameOrig']=='C1866458559')\n",
    "                 ,['step','nameOrig','amount']].groupby('nameOrig',as_index=False)['amount'].count()"
   ]
  },
  {
   "cell_type": "code",
   "execution_count": 113,
   "metadata": {},
   "outputs": [
    {
     "data": {
      "text/html": [
       "<div>\n",
       "<style scoped>\n",
       "    .dataframe tbody tr th:only-of-type {\n",
       "        vertical-align: middle;\n",
       "    }\n",
       "\n",
       "    .dataframe tbody tr th {\n",
       "        vertical-align: top;\n",
       "    }\n",
       "\n",
       "    .dataframe thead th {\n",
       "        text-align: right;\n",
       "    }\n",
       "</style>\n",
       "<table border=\"1\" class=\"dataframe\">\n",
       "  <thead>\n",
       "    <tr style=\"text-align: right;\">\n",
       "      <th></th>\n",
       "      <th>nameOrig</th>\n",
       "      <th>$TransL1W</th>\n",
       "    </tr>\n",
       "  </thead>\n",
       "  <tbody>\n",
       "    <tr>\n",
       "      <td>0</td>\n",
       "      <td>C1866458559</td>\n",
       "      <td>117930.56</td>\n",
       "    </tr>\n",
       "  </tbody>\n",
       "</table>\n",
       "</div>"
      ],
      "text/plain": [
       "      nameOrig  $TransL1W\n",
       "0  C1866458559  117930.56"
      ]
     },
     "execution_count": 113,
     "metadata": {},
     "output_type": "execute_result"
    }
   ],
   "source": [
    "#df_t1=df_t1.to_frame()\n",
    "df_t1=df_t1.rename(columns={'amount':'$TransL1W'})\n",
    "df_t1"
   ]
  },
  {
   "cell_type": "code",
   "execution_count": 114,
   "metadata": {},
   "outputs": [
    {
     "data": {
      "text/html": [
       "<div>\n",
       "<style scoped>\n",
       "    .dataframe tbody tr th:only-of-type {\n",
       "        vertical-align: middle;\n",
       "    }\n",
       "\n",
       "    .dataframe tbody tr th {\n",
       "        vertical-align: top;\n",
       "    }\n",
       "\n",
       "    .dataframe thead th {\n",
       "        text-align: right;\n",
       "    }\n",
       "</style>\n",
       "<table border=\"1\" class=\"dataframe\">\n",
       "  <thead>\n",
       "    <tr style=\"text-align: right;\">\n",
       "      <th></th>\n",
       "      <th>nameOrig</th>\n",
       "      <th>NumTransL1W</th>\n",
       "    </tr>\n",
       "  </thead>\n",
       "  <tbody>\n",
       "    <tr>\n",
       "      <td>0</td>\n",
       "      <td>C1866458559</td>\n",
       "      <td>1</td>\n",
       "    </tr>\n",
       "  </tbody>\n",
       "</table>\n",
       "</div>"
      ],
      "text/plain": [
       "      nameOrig  NumTransL1W\n",
       "0  C1866458559            1"
      ]
     },
     "execution_count": 114,
     "metadata": {},
     "output_type": "execute_result"
    }
   ],
   "source": [
    "#df_t2=df_t2.to_frame()\n",
    "df_t2=df_t2.rename(columns={'amount':'NumTransL1W'})\n",
    "df_t2"
   ]
  },
  {
   "cell_type": "code",
   "execution_count": 115,
   "metadata": {},
   "outputs": [
    {
     "data": {
      "text/html": [
       "<div>\n",
       "<style scoped>\n",
       "    .dataframe tbody tr th:only-of-type {\n",
       "        vertical-align: middle;\n",
       "    }\n",
       "\n",
       "    .dataframe tbody tr th {\n",
       "        vertical-align: top;\n",
       "    }\n",
       "\n",
       "    .dataframe thead th {\n",
       "        text-align: right;\n",
       "    }\n",
       "</style>\n",
       "<table border=\"1\" class=\"dataframe\">\n",
       "  <thead>\n",
       "    <tr style=\"text-align: right;\">\n",
       "      <th></th>\n",
       "      <th>nameOrig</th>\n",
       "      <th>$TransL1W</th>\n",
       "      <th>NumTransL1W</th>\n",
       "    </tr>\n",
       "  </thead>\n",
       "  <tbody>\n",
       "    <tr>\n",
       "      <td>0</td>\n",
       "      <td>C1866458559</td>\n",
       "      <td>117930.56</td>\n",
       "      <td>1</td>\n",
       "    </tr>\n",
       "  </tbody>\n",
       "</table>\n",
       "</div>"
      ],
      "text/plain": [
       "      nameOrig  $TransL1W  NumTransL1W\n",
       "0  C1866458559  117930.56            1"
      ]
     },
     "execution_count": 115,
     "metadata": {},
     "output_type": "execute_result"
    }
   ],
   "source": [
    "df_t=pd.merge(df_t1,df_t2,on='nameOrig')\n",
    "df_t"
   ]
  },
  {
   "cell_type": "code",
   "execution_count": 125,
   "metadata": {},
   "outputs": [
    {
     "data": {
      "text/html": [
       "<div>\n",
       "<style scoped>\n",
       "    .dataframe tbody tr th:only-of-type {\n",
       "        vertical-align: middle;\n",
       "    }\n",
       "\n",
       "    .dataframe tbody tr th {\n",
       "        vertical-align: top;\n",
       "    }\n",
       "\n",
       "    .dataframe thead th {\n",
       "        text-align: right;\n",
       "    }\n",
       "</style>\n",
       "<table border=\"1\" class=\"dataframe\">\n",
       "  <thead>\n",
       "    <tr style=\"text-align: right;\">\n",
       "      <th></th>\n",
       "      <th>step</th>\n",
       "      <th>type</th>\n",
       "      <th>amount</th>\n",
       "      <th>nameOrig</th>\n",
       "      <th>oldBalanceOrig</th>\n",
       "      <th>newBalanceOrig</th>\n",
       "      <th>nameDest</th>\n",
       "      <th>oldBalanceDest</th>\n",
       "      <th>newBalanceDest</th>\n",
       "      <th>isFraud</th>\n",
       "      <th>isFlaggedFraud</th>\n",
       "      <th>week</th>\n",
       "      <th>$TransL1W</th>\n",
       "      <th>NumTransL1W</th>\n",
       "    </tr>\n",
       "  </thead>\n",
       "  <tbody>\n",
       "    <tr>\n",
       "      <td>0</td>\n",
       "      <td>563</td>\n",
       "      <td>CASH_OUT</td>\n",
       "      <td>261870.19</td>\n",
       "      <td>C1866458559</td>\n",
       "      <td>0.0</td>\n",
       "      <td>0.0</td>\n",
       "      <td>C334675503</td>\n",
       "      <td>373186.47</td>\n",
       "      <td>635056.66</td>\n",
       "      <td>0</td>\n",
       "      <td>0</td>\n",
       "      <td>4.0</td>\n",
       "      <td>117930.56</td>\n",
       "      <td>1</td>\n",
       "    </tr>\n",
       "  </tbody>\n",
       "</table>\n",
       "</div>"
      ],
      "text/plain": [
       "   step      type     amount     nameOrig  oldBalanceOrig  newBalanceOrig  \\\n",
       "0   563  CASH_OUT  261870.19  C1866458559             0.0             0.0   \n",
       "\n",
       "     nameDest  oldBalanceDest  newBalanceDest  isFraud  isFlaggedFraud  week  \\\n",
       "0  C334675503       373186.47       635056.66        0               0   4.0   \n",
       "\n",
       "   $TransL1W  NumTransL1W  \n",
       "0  117930.56            1  "
      ]
     },
     "execution_count": 125,
     "metadata": {},
     "output_type": "execute_result"
    }
   ],
   "source": [
    "df_t3=df_cot.iloc[2689177:2689177+1]\n",
    "df_t3=pd.merge(df_t3,df_t,how='left',on='nameOrig')\n",
    "df_t3"
   ]
  },
  {
   "cell_type": "code",
   "execution_count": 19,
   "metadata": {},
   "outputs": [
    {
     "name": "stdout",
     "output_type": "stream",
     "text": [
      "1\n",
      "2\n",
      "3\n"
     ]
    }
   ],
   "source": [
    "for i in range(1,4):\n",
    "    print(i)"
   ]
  },
  {
   "cell_type": "code",
   "execution_count": null,
   "metadata": {},
   "outputs": [],
   "source": []
  }
 ],
 "metadata": {
  "kernelspec": {
   "display_name": "Python 3",
   "language": "python",
   "name": "python3"
  }
 },
 "nbformat": 4,
 "nbformat_minor": 2
}
