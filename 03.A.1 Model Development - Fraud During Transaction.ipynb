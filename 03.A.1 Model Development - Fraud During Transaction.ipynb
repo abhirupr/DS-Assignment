{
 "cells": [
  {
   "cell_type": "markdown",
   "metadata": {},
   "source": [
    "#### Model Development considering features avaialbale during point of transaction"
   ]
  },
  {
   "cell_type": "code",
   "execution_count": 1,
   "metadata": {},
   "outputs": [],
   "source": [
    "import pandas as pd\n",
    "import numpy as np\n",
    "\n",
    "import xgboost as xgb\n",
    "from xgboost import plot_importance\n",
    "from xgboost.sklearn import XGBClassifier\n",
    "\n",
    "from sklearn import metrics\n",
    "from sklearn.model_selection import train_test_split\n",
    "from sklearn.model_selection import cross_validate, learning_curve, GridSearchCV\n",
    "from sklearn.metrics import average_precision_score, roc_curve, precision_recall_curve, confusion_matrix\n",
    "\n",
    "import matplotlib.pylab as plt\n",
    "%matplotlib inline\n",
    "from matplotlib.pylab import rcParams\n",
    "rcParams['figure.figsize'] = 12, 4\n",
    "\n",
    "import time\n",
    "import pickle"
   ]
  },
  {
   "cell_type": "code",
   "execution_count": 2,
   "metadata": {},
   "outputs": [
    {
     "data": {
      "text/html": [
       "<div>\n",
       "<style scoped>\n",
       "    .dataframe tbody tr th:only-of-type {\n",
       "        vertical-align: middle;\n",
       "    }\n",
       "\n",
       "    .dataframe tbody tr th {\n",
       "        vertical-align: top;\n",
       "    }\n",
       "\n",
       "    .dataframe thead th {\n",
       "        text-align: right;\n",
       "    }\n",
       "</style>\n",
       "<table border=\"1\" class=\"dataframe\">\n",
       "  <thead>\n",
       "    <tr style=\"text-align: right;\">\n",
       "      <th></th>\n",
       "      <th>step</th>\n",
       "      <th>type</th>\n",
       "      <th>amount</th>\n",
       "      <th>nameOrig</th>\n",
       "      <th>oldBalanceOrig</th>\n",
       "      <th>newBalanceOrig</th>\n",
       "      <th>nameDest</th>\n",
       "      <th>oldBalanceDest</th>\n",
       "      <th>newBalanceDest</th>\n",
       "      <th>isFraud</th>\n",
       "      <th>...</th>\n",
       "      <th>time_of_day</th>\n",
       "      <th>amount_tod_median</th>\n",
       "      <th>amount_tod_std</th>\n",
       "      <th>amount_tod_max</th>\n",
       "      <th>amount_deviance_5</th>\n",
       "      <th>amount_deviance_6</th>\n",
       "      <th>amount_deviance_7</th>\n",
       "      <th>amount_deviance_8</th>\n",
       "      <th>diffBalanceOrig</th>\n",
       "      <th>diffBalanceDest</th>\n",
       "    </tr>\n",
       "  </thead>\n",
       "  <tbody>\n",
       "    <tr>\n",
       "      <td>0</td>\n",
       "      <td>1</td>\n",
       "      <td>TRANSFER</td>\n",
       "      <td>181.00</td>\n",
       "      <td>C1305486145</td>\n",
       "      <td>181.0</td>\n",
       "      <td>0.0</td>\n",
       "      <td>C553264065</td>\n",
       "      <td>0.0</td>\n",
       "      <td>0.00</td>\n",
       "      <td>1</td>\n",
       "      <td>...</td>\n",
       "      <td>1</td>\n",
       "      <td>156986.25</td>\n",
       "      <td>375750.01</td>\n",
       "      <td>4407884.05</td>\n",
       "      <td>-0.42</td>\n",
       "      <td>-156805.25</td>\n",
       "      <td>4407703.05</td>\n",
       "      <td>1.00</td>\n",
       "      <td>0.00</td>\n",
       "      <td>181.0</td>\n",
       "    </tr>\n",
       "    <tr>\n",
       "      <td>1</td>\n",
       "      <td>1</td>\n",
       "      <td>CASH_OUT</td>\n",
       "      <td>181.00</td>\n",
       "      <td>C840083671</td>\n",
       "      <td>181.0</td>\n",
       "      <td>0.0</td>\n",
       "      <td>C38997010</td>\n",
       "      <td>21182.0</td>\n",
       "      <td>0.00</td>\n",
       "      <td>1</td>\n",
       "      <td>...</td>\n",
       "      <td>1</td>\n",
       "      <td>156986.25</td>\n",
       "      <td>375750.01</td>\n",
       "      <td>4407884.05</td>\n",
       "      <td>-0.42</td>\n",
       "      <td>-156805.25</td>\n",
       "      <td>4407703.05</td>\n",
       "      <td>1.00</td>\n",
       "      <td>0.00</td>\n",
       "      <td>21363.0</td>\n",
       "    </tr>\n",
       "    <tr>\n",
       "      <td>2</td>\n",
       "      <td>1</td>\n",
       "      <td>CASH_OUT</td>\n",
       "      <td>229133.94</td>\n",
       "      <td>C905080434</td>\n",
       "      <td>15325.0</td>\n",
       "      <td>0.0</td>\n",
       "      <td>C476402209</td>\n",
       "      <td>5083.0</td>\n",
       "      <td>51513.44</td>\n",
       "      <td>0</td>\n",
       "      <td>...</td>\n",
       "      <td>1</td>\n",
       "      <td>156986.25</td>\n",
       "      <td>375750.01</td>\n",
       "      <td>4407884.05</td>\n",
       "      <td>0.19</td>\n",
       "      <td>72147.69</td>\n",
       "      <td>4178750.11</td>\n",
       "      <td>0.95</td>\n",
       "      <td>213808.94</td>\n",
       "      <td>182703.5</td>\n",
       "    </tr>\n",
       "    <tr>\n",
       "      <td>3</td>\n",
       "      <td>1</td>\n",
       "      <td>TRANSFER</td>\n",
       "      <td>215310.30</td>\n",
       "      <td>C1670993182</td>\n",
       "      <td>705.0</td>\n",
       "      <td>0.0</td>\n",
       "      <td>C1100439041</td>\n",
       "      <td>22425.0</td>\n",
       "      <td>0.00</td>\n",
       "      <td>0</td>\n",
       "      <td>...</td>\n",
       "      <td>1</td>\n",
       "      <td>156986.25</td>\n",
       "      <td>375750.01</td>\n",
       "      <td>4407884.05</td>\n",
       "      <td>0.16</td>\n",
       "      <td>58324.05</td>\n",
       "      <td>4192573.75</td>\n",
       "      <td>0.95</td>\n",
       "      <td>214605.30</td>\n",
       "      <td>237735.3</td>\n",
       "    </tr>\n",
       "    <tr>\n",
       "      <td>4</td>\n",
       "      <td>1</td>\n",
       "      <td>TRANSFER</td>\n",
       "      <td>311685.89</td>\n",
       "      <td>C1984094095</td>\n",
       "      <td>10835.0</td>\n",
       "      <td>0.0</td>\n",
       "      <td>C932583850</td>\n",
       "      <td>6267.0</td>\n",
       "      <td>2719172.89</td>\n",
       "      <td>0</td>\n",
       "      <td>...</td>\n",
       "      <td>1</td>\n",
       "      <td>156986.25</td>\n",
       "      <td>375750.01</td>\n",
       "      <td>4407884.05</td>\n",
       "      <td>0.41</td>\n",
       "      <td>154699.64</td>\n",
       "      <td>4096198.16</td>\n",
       "      <td>0.93</td>\n",
       "      <td>300850.89</td>\n",
       "      <td>-2401220.0</td>\n",
       "    </tr>\n",
       "  </tbody>\n",
       "</table>\n",
       "<p>5 rows × 35 columns</p>\n",
       "</div>"
      ],
      "text/plain": [
       "   step      type     amount     nameOrig  oldBalanceOrig  newBalanceOrig  \\\n",
       "0     1  TRANSFER     181.00  C1305486145           181.0             0.0   \n",
       "1     1  CASH_OUT     181.00   C840083671           181.0             0.0   \n",
       "2     1  CASH_OUT  229133.94   C905080434         15325.0             0.0   \n",
       "3     1  TRANSFER  215310.30  C1670993182           705.0             0.0   \n",
       "4     1  TRANSFER  311685.89  C1984094095         10835.0             0.0   \n",
       "\n",
       "      nameDest  oldBalanceDest  newBalanceDest  isFraud  ...  time_of_day  \\\n",
       "0   C553264065             0.0            0.00        1  ...            1   \n",
       "1    C38997010         21182.0            0.00        1  ...            1   \n",
       "2   C476402209          5083.0        51513.44        0  ...            1   \n",
       "3  C1100439041         22425.0            0.00        0  ...            1   \n",
       "4   C932583850          6267.0      2719172.89        0  ...            1   \n",
       "\n",
       "   amount_tod_median  amount_tod_std  amount_tod_max  amount_deviance_5  \\\n",
       "0          156986.25       375750.01      4407884.05              -0.42   \n",
       "1          156986.25       375750.01      4407884.05              -0.42   \n",
       "2          156986.25       375750.01      4407884.05               0.19   \n",
       "3          156986.25       375750.01      4407884.05               0.16   \n",
       "4          156986.25       375750.01      4407884.05               0.41   \n",
       "\n",
       "   amount_deviance_6  amount_deviance_7  amount_deviance_8  diffBalanceOrig  \\\n",
       "0         -156805.25         4407703.05               1.00             0.00   \n",
       "1         -156805.25         4407703.05               1.00             0.00   \n",
       "2           72147.69         4178750.11               0.95        213808.94   \n",
       "3           58324.05         4192573.75               0.95        214605.30   \n",
       "4          154699.64         4096198.16               0.93        300850.89   \n",
       "\n",
       "   diffBalanceDest  \n",
       "0            181.0  \n",
       "1          21363.0  \n",
       "2         182703.5  \n",
       "3         237735.3  \n",
       "4       -2401220.0  \n",
       "\n",
       "[5 rows x 35 columns]"
      ]
     },
     "execution_count": 2,
     "metadata": {},
     "output_type": "execute_result"
    }
   ],
   "source": [
    "df_cot=pd.read_csv('/Users/Abhirup/Desktop/Projects/HSBC DS Assignment/df_cot.csv')\n",
    "df_cot.head()"
   ]
  },
  {
   "cell_type": "code",
   "execution_count": 3,
   "metadata": {},
   "outputs": [
    {
     "name": "stdout",
     "output_type": "stream",
     "text": [
      "(2770409, 35)\n",
      "step                   int64\n",
      "type                  object\n",
      "amount               float64\n",
      "nameOrig              object\n",
      "oldBalanceOrig       float64\n",
      "newBalanceOrig       float64\n",
      "nameDest              object\n",
      "oldBalanceDest       float64\n",
      "newBalanceDest       float64\n",
      "isFraud                int64\n",
      "isFlaggedFraud         int64\n",
      "week                   int64\n",
      "$TransLW             float64\n",
      "NumTransLW             int64\n",
      "FraudBefore            int64\n",
      "oldBalanceOrigCat      int64\n",
      "amount_median        float64\n",
      "amount_std           float64\n",
      "amt_max              float64\n",
      "amount_deviance_1    float64\n",
      "amount_deviance_2    float64\n",
      "amount_deviance_3    float64\n",
      "amount_deviance_4    float64\n",
      "amount_zero            int64\n",
      "amt_bal_perc         float64\n",
      "time_of_day            int64\n",
      "amount_tod_median    float64\n",
      "amount_tod_std       float64\n",
      "amount_tod_max       float64\n",
      "amount_deviance_5    float64\n",
      "amount_deviance_6    float64\n",
      "amount_deviance_7    float64\n",
      "amount_deviance_8    float64\n",
      "diffBalanceOrig      float64\n",
      "diffBalanceDest      float64\n",
      "dtype: object\n"
     ]
    }
   ],
   "source": [
    "print(df_cot.shape)\n",
    "print(df_cot.dtypes)"
   ]
  },
  {
   "cell_type": "code",
   "execution_count": 4,
   "metadata": {},
   "outputs": [
    {
     "data": {
      "text/plain": [
       "0    2237500\n",
       "1     532909\n",
       "Name: trans_type, dtype: int64"
      ]
     },
     "execution_count": 4,
     "metadata": {},
     "output_type": "execute_result"
    }
   ],
   "source": [
    "df_cot.loc[df_cot['type']=='TRANSFER','trans_type']=1\n",
    "df_cot.loc[df_cot['type']=='CASH_OUT','trans_type']=0\n",
    "df_cot['trans_type']=df_cot['trans_type'].astype(int)\n",
    "df_cot['trans_type'].value_counts()"
   ]
  },
  {
   "cell_type": "code",
   "execution_count": 5,
   "metadata": {},
   "outputs": [
    {
     "data": {
      "text/html": [
       "<div>\n",
       "<style scoped>\n",
       "    .dataframe tbody tr th:only-of-type {\n",
       "        vertical-align: middle;\n",
       "    }\n",
       "\n",
       "    .dataframe tbody tr th {\n",
       "        vertical-align: top;\n",
       "    }\n",
       "\n",
       "    .dataframe thead th {\n",
       "        text-align: right;\n",
       "    }\n",
       "</style>\n",
       "<table border=\"1\" class=\"dataframe\">\n",
       "  <thead>\n",
       "    <tr style=\"text-align: right;\">\n",
       "      <th></th>\n",
       "      <th>step</th>\n",
       "      <th>type</th>\n",
       "      <th>amount</th>\n",
       "      <th>nameOrig</th>\n",
       "      <th>oldBalanceOrig</th>\n",
       "      <th>newBalanceOrig</th>\n",
       "      <th>nameDest</th>\n",
       "      <th>oldBalanceDest</th>\n",
       "      <th>newBalanceDest</th>\n",
       "      <th>isFraud</th>\n",
       "      <th>...</th>\n",
       "      <th>amount_tod_std</th>\n",
       "      <th>amount_tod_max</th>\n",
       "      <th>amount_deviance_5</th>\n",
       "      <th>amount_deviance_6</th>\n",
       "      <th>amount_deviance_7</th>\n",
       "      <th>amount_deviance_8</th>\n",
       "      <th>diffBalanceOrig</th>\n",
       "      <th>diffBalanceDest</th>\n",
       "      <th>trans_type</th>\n",
       "      <th>tran_id</th>\n",
       "    </tr>\n",
       "  </thead>\n",
       "  <tbody>\n",
       "    <tr>\n",
       "      <td>0</td>\n",
       "      <td>1</td>\n",
       "      <td>TRANSFER</td>\n",
       "      <td>181.00</td>\n",
       "      <td>C1305486145</td>\n",
       "      <td>181.0</td>\n",
       "      <td>0.0</td>\n",
       "      <td>C553264065</td>\n",
       "      <td>0.0</td>\n",
       "      <td>0.00</td>\n",
       "      <td>1</td>\n",
       "      <td>...</td>\n",
       "      <td>375750.01</td>\n",
       "      <td>4407884.05</td>\n",
       "      <td>-0.42</td>\n",
       "      <td>-156805.25</td>\n",
       "      <td>4407703.05</td>\n",
       "      <td>1.00</td>\n",
       "      <td>0.00</td>\n",
       "      <td>181.0</td>\n",
       "      <td>1</td>\n",
       "      <td>1</td>\n",
       "    </tr>\n",
       "    <tr>\n",
       "      <td>1</td>\n",
       "      <td>1</td>\n",
       "      <td>CASH_OUT</td>\n",
       "      <td>181.00</td>\n",
       "      <td>C840083671</td>\n",
       "      <td>181.0</td>\n",
       "      <td>0.0</td>\n",
       "      <td>C38997010</td>\n",
       "      <td>21182.0</td>\n",
       "      <td>0.00</td>\n",
       "      <td>1</td>\n",
       "      <td>...</td>\n",
       "      <td>375750.01</td>\n",
       "      <td>4407884.05</td>\n",
       "      <td>-0.42</td>\n",
       "      <td>-156805.25</td>\n",
       "      <td>4407703.05</td>\n",
       "      <td>1.00</td>\n",
       "      <td>0.00</td>\n",
       "      <td>21363.0</td>\n",
       "      <td>0</td>\n",
       "      <td>2</td>\n",
       "    </tr>\n",
       "    <tr>\n",
       "      <td>2</td>\n",
       "      <td>1</td>\n",
       "      <td>CASH_OUT</td>\n",
       "      <td>229133.94</td>\n",
       "      <td>C905080434</td>\n",
       "      <td>15325.0</td>\n",
       "      <td>0.0</td>\n",
       "      <td>C476402209</td>\n",
       "      <td>5083.0</td>\n",
       "      <td>51513.44</td>\n",
       "      <td>0</td>\n",
       "      <td>...</td>\n",
       "      <td>375750.01</td>\n",
       "      <td>4407884.05</td>\n",
       "      <td>0.19</td>\n",
       "      <td>72147.69</td>\n",
       "      <td>4178750.11</td>\n",
       "      <td>0.95</td>\n",
       "      <td>213808.94</td>\n",
       "      <td>182703.5</td>\n",
       "      <td>0</td>\n",
       "      <td>3</td>\n",
       "    </tr>\n",
       "    <tr>\n",
       "      <td>3</td>\n",
       "      <td>1</td>\n",
       "      <td>TRANSFER</td>\n",
       "      <td>215310.30</td>\n",
       "      <td>C1670993182</td>\n",
       "      <td>705.0</td>\n",
       "      <td>0.0</td>\n",
       "      <td>C1100439041</td>\n",
       "      <td>22425.0</td>\n",
       "      <td>0.00</td>\n",
       "      <td>0</td>\n",
       "      <td>...</td>\n",
       "      <td>375750.01</td>\n",
       "      <td>4407884.05</td>\n",
       "      <td>0.16</td>\n",
       "      <td>58324.05</td>\n",
       "      <td>4192573.75</td>\n",
       "      <td>0.95</td>\n",
       "      <td>214605.30</td>\n",
       "      <td>237735.3</td>\n",
       "      <td>1</td>\n",
       "      <td>4</td>\n",
       "    </tr>\n",
       "    <tr>\n",
       "      <td>4</td>\n",
       "      <td>1</td>\n",
       "      <td>TRANSFER</td>\n",
       "      <td>311685.89</td>\n",
       "      <td>C1984094095</td>\n",
       "      <td>10835.0</td>\n",
       "      <td>0.0</td>\n",
       "      <td>C932583850</td>\n",
       "      <td>6267.0</td>\n",
       "      <td>2719172.89</td>\n",
       "      <td>0</td>\n",
       "      <td>...</td>\n",
       "      <td>375750.01</td>\n",
       "      <td>4407884.05</td>\n",
       "      <td>0.41</td>\n",
       "      <td>154699.64</td>\n",
       "      <td>4096198.16</td>\n",
       "      <td>0.93</td>\n",
       "      <td>300850.89</td>\n",
       "      <td>-2401220.0</td>\n",
       "      <td>1</td>\n",
       "      <td>5</td>\n",
       "    </tr>\n",
       "  </tbody>\n",
       "</table>\n",
       "<p>5 rows × 37 columns</p>\n",
       "</div>"
      ],
      "text/plain": [
       "   step      type     amount     nameOrig  oldBalanceOrig  newBalanceOrig  \\\n",
       "0     1  TRANSFER     181.00  C1305486145           181.0             0.0   \n",
       "1     1  CASH_OUT     181.00   C840083671           181.0             0.0   \n",
       "2     1  CASH_OUT  229133.94   C905080434         15325.0             0.0   \n",
       "3     1  TRANSFER  215310.30  C1670993182           705.0             0.0   \n",
       "4     1  TRANSFER  311685.89  C1984094095         10835.0             0.0   \n",
       "\n",
       "      nameDest  oldBalanceDest  newBalanceDest  isFraud  ...  amount_tod_std  \\\n",
       "0   C553264065             0.0            0.00        1  ...       375750.01   \n",
       "1    C38997010         21182.0            0.00        1  ...       375750.01   \n",
       "2   C476402209          5083.0        51513.44        0  ...       375750.01   \n",
       "3  C1100439041         22425.0            0.00        0  ...       375750.01   \n",
       "4   C932583850          6267.0      2719172.89        0  ...       375750.01   \n",
       "\n",
       "   amount_tod_max  amount_deviance_5  amount_deviance_6  amount_deviance_7  \\\n",
       "0      4407884.05              -0.42         -156805.25         4407703.05   \n",
       "1      4407884.05              -0.42         -156805.25         4407703.05   \n",
       "2      4407884.05               0.19           72147.69         4178750.11   \n",
       "3      4407884.05               0.16           58324.05         4192573.75   \n",
       "4      4407884.05               0.41          154699.64         4096198.16   \n",
       "\n",
       "   amount_deviance_8  diffBalanceOrig  diffBalanceDest  trans_type  tran_id  \n",
       "0               1.00             0.00            181.0           1        1  \n",
       "1               1.00             0.00          21363.0           0        2  \n",
       "2               0.95        213808.94         182703.5           0        3  \n",
       "3               0.95        214605.30         237735.3           1        4  \n",
       "4               0.93        300850.89       -2401220.0           1        5  \n",
       "\n",
       "[5 rows x 37 columns]"
      ]
     },
     "execution_count": 5,
     "metadata": {},
     "output_type": "execute_result"
    }
   ],
   "source": [
    "#Creating a transaction ID\n",
    "df_cot['tran_id']=df_cot.index +1\n",
    "df_cot.head()"
   ]
  },
  {
   "cell_type": "code",
   "execution_count": 6,
   "metadata": {},
   "outputs": [],
   "source": [
    "# not including new balances assuming it gets updated post transaction\n",
    "#,'diffBalanceOrig','diffBalanceDest'\n",
    "feature_list=['NumTransLW','FraudBefore','oldBalanceOrigCat','amount_zero','time_of_day','amount','oldBalanceOrig'\n",
    "              ,'oldBalanceDest','$TransLW','amount_median','amount_std','amt_max','amount_deviance_1'\n",
    "              ,'amount_deviance_2','amount_deviance_3','amount_deviance_4','amt_bal_perc','amount_tod_median'\n",
    "              ,'amount_tod_std','amount_tod_max','amount_deviance_5','amount_deviance_6','amount_deviance_7'\n",
    "              ,'amount_deviance_8','trans_type']\n",
    "variable_list=['tran_id','isFraud','NumTransLW','FraudBefore','oldBalanceOrigCat','amount_zero','time_of_day','amount'\n",
    "               ,'oldBalanceOrig','oldBalanceDest','$TransLW','amount_median','amount_std','amt_max'\n",
    "               ,'amount_deviance_1','amount_deviance_2','amount_deviance_3','amount_deviance_4','amt_bal_perc'\n",
    "               ,'amount_tod_median','amount_tod_std','amount_tod_max','amount_deviance_5','amount_deviance_6'\n",
    "               ,'amount_deviance_7','amount_deviance_8','diffBalanceOrig','diffBalanceDest','trans_type']"
   ]
  },
  {
   "cell_type": "code",
   "execution_count": 7,
   "metadata": {},
   "outputs": [
    {
     "name": "stdout",
     "output_type": "stream",
     "text": [
      "(1697805, 29)\n",
      "(81630, 29)\n",
      "0    1693762\n",
      "1       4043\n",
      "Name: isFraud, dtype: int64\n"
     ]
    }
   ],
   "source": [
    "df_model_dev=df_cot.loc[df_cot['week'].isin([2,3]),variable_list]\n",
    "df_oot_val=df_cot.loc[df_cot['week']==4,variable_list]\n",
    "print(df_model_dev.shape)\n",
    "print(df_oot_val.shape)\n",
    "print(df_model_dev['isFraud'].value_counts())"
   ]
  },
  {
   "cell_type": "code",
   "execution_count": 8,
   "metadata": {},
   "outputs": [],
   "source": [
    "target='isFraud'\n",
    "IDcol='tran_id'\n",
    "\n",
    "label=df_model_dev[target]\n",
    "\n",
    "#split data into train and test\n",
    "seed=1234\n",
    "test_size=0.3\n",
    "\n",
    "X_train, X_test, Y_train, Y_test = train_test_split(df_model_dev[feature_list], \n",
    "                                                    label, test_size=test_size, random_state=seed,stratify=label)"
   ]
  },
  {
   "cell_type": "code",
   "execution_count": 9,
   "metadata": {},
   "outputs": [
    {
     "name": "stdout",
     "output_type": "stream",
     "text": [
      "42.86\n",
      "43 2\n"
     ]
    }
   ],
   "source": [
    "print(round(Y_test.sum()/Y_train.sum()*100,2))\n",
    "print(round(len(X_test)/len(X_train)*100),2)"
   ]
  },
  {
   "cell_type": "code",
   "execution_count": 10,
   "metadata": {},
   "outputs": [
    {
     "name": "stderr",
     "output_type": "stream",
     "text": [
      "/opt/anaconda3/lib/python3.7/site-packages/xgboost/core.py:587: FutureWarning: Series.base is deprecated and will be removed in a future version\n",
      "  if getattr(data, 'base', None) is not None and \\\n"
     ]
    },
    {
     "name": "stdout",
     "output_type": "stream",
     "text": [
      "263.45952430168785\n"
     ]
    }
   ],
   "source": [
    "xgb_vs_1 = XGBClassifier(\n",
    " learning_rate =0.05,\n",
    " n_estimators=1300,\n",
    " max_depth=5,\n",
    " min_child_weight=1,\n",
    " gamma=0,\n",
    " subsample=0.8,\n",
    " colsample_bytree=0.8,\n",
    " objective= 'binary:logistic',\n",
    " nthread=4,\n",
    " scale_pos_weight=419,\n",
    " seed=27)\n",
    "\n",
    "train_dm=xgb.DMatrix(X_train.values, label=Y_train)\n",
    "\n",
    "start_time=time.time()\n",
    "\n",
    "cvresult=xgb.cv(xgb_vs_1.get_xgb_params(), train_dm, num_boost_round=xgb_vs_1.get_params()['n_estimators'], nfold=5,\n",
    "                metrics='aucpr', early_stopping_rounds=50)\n",
    "\n",
    "print((time.time()-start_time)/60)"
   ]
  },
  {
   "cell_type": "code",
   "execution_count": 11,
   "metadata": {},
   "outputs": [
    {
     "data": {
      "text/html": [
       "<div>\n",
       "<style scoped>\n",
       "    .dataframe tbody tr th:only-of-type {\n",
       "        vertical-align: middle;\n",
       "    }\n",
       "\n",
       "    .dataframe tbody tr th {\n",
       "        vertical-align: top;\n",
       "    }\n",
       "\n",
       "    .dataframe thead th {\n",
       "        text-align: right;\n",
       "    }\n",
       "</style>\n",
       "<table border=\"1\" class=\"dataframe\">\n",
       "  <thead>\n",
       "    <tr style=\"text-align: right;\">\n",
       "      <th></th>\n",
       "      <th>train-aucpr-mean</th>\n",
       "      <th>train-aucpr-std</th>\n",
       "      <th>test-aucpr-mean</th>\n",
       "      <th>test-aucpr-std</th>\n",
       "    </tr>\n",
       "  </thead>\n",
       "  <tbody>\n",
       "    <tr>\n",
       "      <td>1295</td>\n",
       "      <td>0.999517</td>\n",
       "      <td>0.000120</td>\n",
       "      <td>0.980091</td>\n",
       "      <td>0.001419</td>\n",
       "    </tr>\n",
       "    <tr>\n",
       "      <td>1296</td>\n",
       "      <td>0.999516</td>\n",
       "      <td>0.000120</td>\n",
       "      <td>0.980082</td>\n",
       "      <td>0.001424</td>\n",
       "    </tr>\n",
       "    <tr>\n",
       "      <td>1297</td>\n",
       "      <td>0.999518</td>\n",
       "      <td>0.000119</td>\n",
       "      <td>0.980089</td>\n",
       "      <td>0.001431</td>\n",
       "    </tr>\n",
       "    <tr>\n",
       "      <td>1298</td>\n",
       "      <td>0.999520</td>\n",
       "      <td>0.000118</td>\n",
       "      <td>0.980084</td>\n",
       "      <td>0.001442</td>\n",
       "    </tr>\n",
       "    <tr>\n",
       "      <td>1299</td>\n",
       "      <td>0.999521</td>\n",
       "      <td>0.000118</td>\n",
       "      <td>0.980070</td>\n",
       "      <td>0.001442</td>\n",
       "    </tr>\n",
       "  </tbody>\n",
       "</table>\n",
       "</div>"
      ],
      "text/plain": [
       "      train-aucpr-mean  train-aucpr-std  test-aucpr-mean  test-aucpr-std\n",
       "1295          0.999517         0.000120         0.980091        0.001419\n",
       "1296          0.999516         0.000120         0.980082        0.001424\n",
       "1297          0.999518         0.000119         0.980089        0.001431\n",
       "1298          0.999520         0.000118         0.980084        0.001442\n",
       "1299          0.999521         0.000118         0.980070        0.001442"
      ]
     },
     "execution_count": 11,
     "metadata": {},
     "output_type": "execute_result"
    }
   ],
   "source": [
    " cvresult.tail()"
   ]
  },
  {
   "cell_type": "code",
   "execution_count": 12,
   "metadata": {},
   "outputs": [
    {
     "name": "stdout",
     "output_type": "stream",
     "text": [
      "      train-aucpr-mean  train-aucpr-std  test-aucpr-mean  test-aucpr-std\n",
      "1295          0.999517          0.00012         0.980091        0.001419\n",
      "      train-aucpr-mean  train-aucpr-std  test-aucpr-mean  test-aucpr-std\n",
      "1299          0.999521         0.000118          0.98007        0.001442\n"
     ]
    }
   ],
   "source": [
    "print(cvresult[cvresult['test-aucpr-mean'] == cvresult['test-aucpr-mean'].max()])\n",
    "print(cvresult[cvresult['train-aucpr-mean'] == cvresult['train-aucpr-mean'].max()])"
   ]
  },
  {
   "cell_type": "code",
   "execution_count": 13,
   "metadata": {},
   "outputs": [
    {
     "data": {
      "text/plain": [
       "1300"
      ]
     },
     "execution_count": 13,
     "metadata": {},
     "output_type": "execute_result"
    }
   ],
   "source": [
    "cvresult.shape[0]"
   ]
  },
  {
   "cell_type": "code",
   "execution_count": 15,
   "metadata": {},
   "outputs": [],
   "source": [
    "xgb_vs_f = XGBClassifier(\n",
    " learning_rate =0.05,\n",
    " n_estimators=1296,\n",
    " max_depth=5,\n",
    " min_child_weight=1,\n",
    " gamma=0,\n",
    " subsample=0.8,\n",
    " colsample_bytree=0.8,\n",
    " objective= 'binary:logistic',\n",
    " nthread=4,\n",
    " scale_pos_weight=419,\n",
    " seed=27)"
   ]
  },
  {
   "cell_type": "code",
   "execution_count": 16,
   "metadata": {},
   "outputs": [
    {
     "name": "stdout",
     "output_type": "stream",
     "text": [
      "(1188463, 29)\n",
      "(509342, 29)\n"
     ]
    }
   ],
   "source": [
    "train_df=df_model_dev.loc[X_train.index,:]\n",
    "test_df=df_model_dev.loc[X_test.index,:]\n",
    "print(train_df.shape)\n",
    "print(test_df.shape)"
   ]
  },
  {
   "cell_type": "code",
   "execution_count": 17,
   "metadata": {},
   "outputs": [
    {
     "name": "stdout",
     "output_type": "stream",
     "text": [
      "56.295279769102734\n"
     ]
    }
   ],
   "source": [
    "start_time=time.time()\n",
    "xgb_vs_f.fit(train_df[feature_list], train_df[target],eval_metric= ['auc', 'aucpr'])\n",
    "pickle.dump(xgb_vs_f, open(\"xgb_model_1\", \"wb\"))\n",
    "print((time.time()-start_time)/60)"
   ]
  },
  {
   "cell_type": "code",
   "execution_count": 18,
   "metadata": {},
   "outputs": [
    {
     "name": "stdout",
     "output_type": "stream",
     "text": [
      "AUPRC Train= 0.9992531495369624\n",
      "AUPRC Test= 0.9832524009221997\n"
     ]
    }
   ],
   "source": [
    "train_df['Prob_Score']=xgb_vs_f.predict_proba(train_df[feature_list])[:,1]\n",
    "test_df['Prob_Score']=xgb_vs_f.predict_proba(test_df[feature_list])[:,1]\n",
    "print('AUPRC Train= {}'.format(average_precision_score(train_df[target], train_df['Prob_Score'])))\n",
    "print('AUPRC Test= {}'.format(average_precision_score(test_df[target], test_df['Prob_Score'])))"
   ]
  },
  {
   "cell_type": "code",
   "execution_count": 19,
   "metadata": {},
   "outputs": [
    {
     "data": {
      "image/png": "[encoded data removed]",
      "text/plain": [
       "<Figure size 432x288 with 1 Axes>"
      ]
     },
     "metadata": {
      "needs_background": "light"
     },
     "output_type": "display_data"
    }
   ],
   "source": [
    "#Check Feature Importance\n",
    "plot_importance(xgb_vs_f, max_num_features=15)\n",
    "plt.show()"
   ]
  },
  {
   "cell_type": "code",
   "execution_count": 20,
   "metadata": {},
   "outputs": [
    {
     "name": "stdout",
     "output_type": "stream",
     "text": [
      "AUPRC OOT= 0.990502966074935\n"
     ]
    }
   ],
   "source": [
    "df_oot_val['Prob_Score']=xgb_vs_f.predict_proba(df_oot_val[feature_list])[:,1]\n",
    "print('AUPRC OOT= {}'.format(average_precision_score(df_oot_val[target], df_oot_val['Prob_Score'])))"
   ]
  },
  {
   "cell_type": "code",
   "execution_count": 21,
   "metadata": {},
   "outputs": [],
   "source": [
    "precision, recall, thresholds = precision_recall_curve(train_df[target], train_df['Prob_Score'])"
   ]
  },
  {
   "cell_type": "code",
   "execution_count": 22,
   "metadata": {},
   "outputs": [
    {
     "data": {
      "text/plain": [
       "0.99983096"
      ]
     },
     "execution_count": 22,
     "metadata": {},
     "output_type": "execute_result"
    }
   ],
   "source": [
    "#Transaction Score\n",
    "thresholds[np.argmax(precision)]"
   ]
  },
  {
   "cell_type": "code",
   "execution_count": 23,
   "metadata": {},
   "outputs": [
    {
     "data": {
      "text/html": [
       "<div>\n",
       "<style scoped>\n",
       "    .dataframe tbody tr th:only-of-type {\n",
       "        vertical-align: middle;\n",
       "    }\n",
       "\n",
       "    .dataframe tbody tr th {\n",
       "        vertical-align: top;\n",
       "    }\n",
       "\n",
       "    .dataframe thead th {\n",
       "        text-align: right;\n",
       "    }\n",
       "</style>\n",
       "<table border=\"1\" class=\"dataframe\">\n",
       "  <thead>\n",
       "    <tr style=\"text-align: right;\">\n",
       "      <th></th>\n",
       "      <th>tran_id</th>\n",
       "      <th>isFraud</th>\n",
       "      <th>NumTransLW</th>\n",
       "      <th>FraudBefore</th>\n",
       "      <th>oldBalanceOrigCat</th>\n",
       "      <th>amount_zero</th>\n",
       "      <th>time_of_day</th>\n",
       "      <th>amount</th>\n",
       "      <th>oldBalanceOrig</th>\n",
       "      <th>oldBalanceDest</th>\n",
       "      <th>...</th>\n",
       "      <th>amount_tod_max</th>\n",
       "      <th>amount_deviance_5</th>\n",
       "      <th>amount_deviance_6</th>\n",
       "      <th>amount_deviance_7</th>\n",
       "      <th>amount_deviance_8</th>\n",
       "      <th>diffBalanceOrig</th>\n",
       "      <th>diffBalanceDest</th>\n",
       "      <th>trans_type</th>\n",
       "      <th>Prob_Score</th>\n",
       "      <th>isFraud_Pred</th>\n",
       "    </tr>\n",
       "  </thead>\n",
       "  <tbody>\n",
       "    <tr>\n",
       "      <td>2486318</td>\n",
       "      <td>2486319</td>\n",
       "      <td>0</td>\n",
       "      <td>0</td>\n",
       "      <td>0</td>\n",
       "      <td>2</td>\n",
       "      <td>0</td>\n",
       "      <td>2</td>\n",
       "      <td>140499.38</td>\n",
       "      <td>10575.0</td>\n",
       "      <td>620769.42</td>\n",
       "      <td>...</td>\n",
       "      <td>47504216.38</td>\n",
       "      <td>-0.09</td>\n",
       "      <td>-61928.34</td>\n",
       "      <td>47363717.00</td>\n",
       "      <td>1.0</td>\n",
       "      <td>129924.38</td>\n",
       "      <td>0.0</td>\n",
       "      <td>0</td>\n",
       "      <td>7.636636e-11</td>\n",
       "      <td>0</td>\n",
       "    </tr>\n",
       "    <tr>\n",
       "      <td>2212281</td>\n",
       "      <td>2212282</td>\n",
       "      <td>0</td>\n",
       "      <td>0</td>\n",
       "      <td>0</td>\n",
       "      <td>1</td>\n",
       "      <td>0</td>\n",
       "      <td>3</td>\n",
       "      <td>54612.50</td>\n",
       "      <td>0.0</td>\n",
       "      <td>884088.71</td>\n",
       "      <td>...</td>\n",
       "      <td>69886731.30</td>\n",
       "      <td>-0.12</td>\n",
       "      <td>-109859.74</td>\n",
       "      <td>69832118.80</td>\n",
       "      <td>1.0</td>\n",
       "      <td>54612.50</td>\n",
       "      <td>0.0</td>\n",
       "      <td>0</td>\n",
       "      <td>8.202026e-08</td>\n",
       "      <td>0</td>\n",
       "    </tr>\n",
       "    <tr>\n",
       "      <td>2121081</td>\n",
       "      <td>2121082</td>\n",
       "      <td>0</td>\n",
       "      <td>0</td>\n",
       "      <td>0</td>\n",
       "      <td>1</td>\n",
       "      <td>0</td>\n",
       "      <td>2</td>\n",
       "      <td>311824.10</td>\n",
       "      <td>0.0</td>\n",
       "      <td>2088728.46</td>\n",
       "      <td>...</td>\n",
       "      <td>92445516.64</td>\n",
       "      <td>0.12</td>\n",
       "      <td>140882.19</td>\n",
       "      <td>92133692.54</td>\n",
       "      <td>1.0</td>\n",
       "      <td>311824.10</td>\n",
       "      <td>0.0</td>\n",
       "      <td>0</td>\n",
       "      <td>1.822967e-08</td>\n",
       "      <td>0</td>\n",
       "    </tr>\n",
       "    <tr>\n",
       "      <td>1977064</td>\n",
       "      <td>1977065</td>\n",
       "      <td>0</td>\n",
       "      <td>0</td>\n",
       "      <td>0</td>\n",
       "      <td>3</td>\n",
       "      <td>0</td>\n",
       "      <td>2</td>\n",
       "      <td>33010.29</td>\n",
       "      <td>39725.0</td>\n",
       "      <td>303816.90</td>\n",
       "      <td>...</td>\n",
       "      <td>57787800.93</td>\n",
       "      <td>-0.21</td>\n",
       "      <td>-171613.69</td>\n",
       "      <td>57754790.64</td>\n",
       "      <td>1.0</td>\n",
       "      <td>0.00</td>\n",
       "      <td>0.0</td>\n",
       "      <td>0</td>\n",
       "      <td>1.654350e-05</td>\n",
       "      <td>0</td>\n",
       "    </tr>\n",
       "    <tr>\n",
       "      <td>1298699</td>\n",
       "      <td>1298700</td>\n",
       "      <td>0</td>\n",
       "      <td>0</td>\n",
       "      <td>0</td>\n",
       "      <td>1</td>\n",
       "      <td>0</td>\n",
       "      <td>2</td>\n",
       "      <td>150102.72</td>\n",
       "      <td>0.0</td>\n",
       "      <td>969143.65</td>\n",
       "      <td>...</td>\n",
       "      <td>92445516.64</td>\n",
       "      <td>-0.02</td>\n",
       "      <td>-20839.19</td>\n",
       "      <td>92295413.92</td>\n",
       "      <td>1.0</td>\n",
       "      <td>150102.72</td>\n",
       "      <td>0.0</td>\n",
       "      <td>0</td>\n",
       "      <td>2.551326e-07</td>\n",
       "      <td>0</td>\n",
       "    </tr>\n",
       "  </tbody>\n",
       "</table>\n",
       "<p>5 rows × 31 columns</p>\n",
       "</div>"
      ],
      "text/plain": [
       "         tran_id  isFraud  NumTransLW  FraudBefore  oldBalanceOrigCat  \\\n",
       "2486318  2486319        0           0            0                  2   \n",
       "2212281  2212282        0           0            0                  1   \n",
       "2121081  2121082        0           0            0                  1   \n",
       "1977064  1977065        0           0            0                  3   \n",
       "1298699  1298700        0           0            0                  1   \n",
       "\n",
       "         amount_zero  time_of_day     amount  oldBalanceOrig  oldBalanceDest  \\\n",
       "2486318            0            2  140499.38         10575.0       620769.42   \n",
       "2212281            0            3   54612.50             0.0       884088.71   \n",
       "2121081            0            2  311824.10             0.0      2088728.46   \n",
       "1977064            0            2   33010.29         39725.0       303816.90   \n",
       "1298699            0            2  150102.72             0.0       969143.65   \n",
       "\n",
       "         ...  amount_tod_max  amount_deviance_5  amount_deviance_6  \\\n",
       "2486318  ...     47504216.38              -0.09          -61928.34   \n",
       "2212281  ...     69886731.30              -0.12         -109859.74   \n",
       "2121081  ...     92445516.64               0.12          140882.19   \n",
       "1977064  ...     57787800.93              -0.21         -171613.69   \n",
       "1298699  ...     92445516.64              -0.02          -20839.19   \n",
       "\n",
       "         amount_deviance_7  amount_deviance_8  diffBalanceOrig  \\\n",
       "2486318        47363717.00                1.0        129924.38   \n",
       "2212281        69832118.80                1.0         54612.50   \n",
       "2121081        92133692.54                1.0        311824.10   \n",
       "1977064        57754790.64                1.0             0.00   \n",
       "1298699        92295413.92                1.0        150102.72   \n",
       "\n",
       "         diffBalanceDest  trans_type    Prob_Score  isFraud_Pred  \n",
       "2486318              0.0           0  7.636636e-11             0  \n",
       "2212281              0.0           0  8.202026e-08             0  \n",
       "2121081              0.0           0  1.822967e-08             0  \n",
       "1977064              0.0           0  1.654350e-05             0  \n",
       "1298699              0.0           0  2.551326e-07             0  \n",
       "\n",
       "[5 rows x 31 columns]"
      ]
     },
     "execution_count": 23,
     "metadata": {},
     "output_type": "execute_result"
    }
   ],
   "source": [
    "train_df.loc[train_df['Prob_Score']>=thresholds[np.argmax(precision)],'isFraud_Pred']=1\n",
    "train_df.loc[train_df['Prob_Score']<thresholds[np.argmax(precision)],'isFraud_Pred']=0\n",
    "train_df['isFraud_Pred']=train_df['isFraud_Pred'].astype(int)\n",
    "train_df.head()"
   ]
  },
  {
   "cell_type": "code",
   "execution_count": 24,
   "metadata": {},
   "outputs": [
    {
     "name": "stdout",
     "output_type": "stream",
     "text": [
      "Confusion Matrix: \n",
      " [[1185633       0]\n",
      " [    578    2252]]\n",
      "\n",
      "Accuracy: 99.95\n",
      "\n",
      "Sensitivity/Recall/TPR: 79.58\n",
      "\n",
      "Precision: 100.0\n",
      "\n",
      "Specificity:\n"
     ]
    }
   ],
   "source": [
    "cm1=confusion_matrix(train_df[target],train_df['isFraud_Pred'])\n",
    "print('Confusion Matrix: \\n',cm1)\n",
    "total=sum(sum(cm1))\n",
    "print(\"\\nAccuracy: {}\" .format(round(((cm1[0,0]+cm1[1,1])/total)*100,2)))\n",
    "print(\"\\nSensitivity/Recall/TPR: {}\" .format(round((cm1[1,1]/(cm1[1,1]+cm1[1,0]))*100,2)))\n",
    "print(\"\\nPrecision: {}\" .format(round((cm1[1,1]/(cm1[1,1]+cm1[0,1]))*100,2)))\n",
    "print(\"\\nSpecificity:\" .format(round((cm1[0,0]/(cm1[0,0]+cm1[0,1]))*100,2)))"
   ]
  },
  {
   "cell_type": "code",
   "execution_count": 25,
   "metadata": {},
   "outputs": [
    {
     "name": "stdout",
     "output_type": "stream",
     "text": [
      "Confusion Matrix: \n",
      " [[508129      0]\n",
      " [   266    947]]\n",
      "\n",
      "Accuracy: 99.95\n",
      "\n",
      "Sensitivity/Recall/TPR: 78.07\n",
      "\n",
      "Precision: 100.0\n",
      "\n",
      "Specificity:\n"
     ]
    }
   ],
   "source": [
    "test_df.loc[test_df['Prob_Score']>=thresholds[np.argmax(precision)],'isFraud_Pred']=1\n",
    "test_df.loc[test_df['Prob_Score']<thresholds[np.argmax(precision)],'isFraud_Pred']=0\n",
    "test_df['isFraud_Pred']=test_df['isFraud_Pred'].astype(int)\n",
    "cm1=confusion_matrix(test_df[target],test_df['isFraud_Pred'])\n",
    "print('Confusion Matrix: \\n',cm1)\n",
    "total=sum(sum(cm1))\n",
    "print(\"\\nAccuracy: {}\" .format(round(((cm1[0,0]+cm1[1,1])/total)*100,2)))\n",
    "print(\"\\nSensitivity/Recall/TPR: {}\" .format(round((cm1[1,1]/(cm1[1,1]+cm1[1,0]))*100,2)))\n",
    "print(\"\\nPrecision: {}\" .format(round((cm1[1,1]/(cm1[1,1]+cm1[0,1]))*100,2)))\n",
    "print(\"\\nSpecificity:\" .format(round((cm1[0,0]/(cm1[0,0]+cm1[0,1]))*100,2)))"
   ]
  },
  {
   "cell_type": "code",
   "execution_count": 26,
   "metadata": {},
   "outputs": [
    {
     "name": "stdout",
     "output_type": "stream",
     "text": [
      "Confusion Matrix: \n",
      " [[79582     0]\n",
      " [  527  1521]]\n",
      "\n",
      "Accuracy: 99.35\n",
      "\n",
      "Sensitivity/Recall/TPR: 74.27\n",
      "\n",
      "Precision: 100.0\n",
      "\n",
      "Specificity:\n"
     ]
    }
   ],
   "source": [
    "df_oot_val.loc[df_oot_val['Prob_Score']>=thresholds[np.argmax(precision)],'isFraud_Pred']=1\n",
    "df_oot_val.loc[df_oot_val['Prob_Score']<thresholds[np.argmax(precision)],'isFraud_Pred']=0\n",
    "df_oot_val['isFraud_Pred']=df_oot_val['isFraud_Pred'].astype(int)\n",
    "cm1=confusion_matrix(df_oot_val[target],df_oot_val['isFraud_Pred'])\n",
    "print('Confusion Matrix: \\n',cm1)\n",
    "total=sum(sum(cm1))\n",
    "print(\"\\nAccuracy: {}\" .format(round(((cm1[0,0]+cm1[1,1])/total)*100,2)))\n",
    "print(\"\\nSensitivity/Recall/TPR: {}\" .format(round((cm1[1,1]/(cm1[1,1]+cm1[1,0]))*100,2)))\n",
    "print(\"\\nPrecision: {}\" .format(round((cm1[1,1]/(cm1[1,1]+cm1[0,1]))*100,2)))\n",
    "print(\"\\nSpecificity:\" .format(round((cm1[0,0]/(cm1[0,0]+cm1[0,1]))*100,2)))"
   ]
  },
  {
   "cell_type": "code",
   "execution_count": null,
   "metadata": {},
   "outputs": [],
   "source": []
  }
 ],
 "metadata": {
  "kernelspec": {
   "display_name": "Python 3",
   "language": "python",
   "name": "python3"
  },
  "language_info": {
   "codemirror_mode": {
    "name": "ipython",
    "version": 3
   },
   "file_extension": ".py",
   "mimetype": "text/x-python",
   "name": "python",
   "nbconvert_exporter": "python",
   "pygments_lexer": "ipython3",
   "version": "3.7.4"
  }
 },
 "nbformat": 4,
 "nbformat_minor": 2
}
